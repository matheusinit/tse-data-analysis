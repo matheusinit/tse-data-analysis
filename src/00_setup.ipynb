{
 "cells": [
  {
   "cell_type": "code",
   "execution_count": 2,
   "metadata": {},
   "outputs": [],
   "source": [
    "from urllib import request\n",
    "\n",
    "EXTRACTION_FOLDER_PATH = './work/'\n",
    "\n",
    "def get_path_for_csv_file():\n",
    "    source_csv_filename = 'votacao_candidato_munzona_2022_BRASIL.csv'\n",
    "    extracted_file = os.path.join(EXTRACTION_FOLDER_PATH, 'extracted', source_csv_filename)\n",
    "\n",
    "    return extracted_file\n",
    "\n",
    "\n",
    "def check_if_extraction_folder_is_created(folder_path: str):\n",
    "    folder_is_created = os.path.exists(folder_path)\n",
    "\n",
    "    if not folder_is_created:\n",
    "      os.mkdir(folder_path)\n",
    "\n",
    "\n",
    "def download_csv_if_not_exists(csv_path: str):\n",
    "   work_dir = EXTRACTION_FOLDER_PATH\n",
    "   destination_file = \"votacao_candidato_munzona_2022.zip\"\n",
    "   url = 'https://cdn.tse.jus.br/estatistica/sead/odsele/votacao_candidato_munzona/votacao_candidato_munzona_2022.zip'\n",
    "   destination_zip_path = os.path.join(work_dir, destination_file)\n",
    "\n",
    "   zip_already_downloaded = os.path.exists(destination_zip_path)\n",
    "\n",
    "   if not zip_already_downloaded:\n",
    "       download_zip_file(url, destination_zip_path)\n",
    "\n",
    "   file_is_extracted = os.path.exists(csv_path)\n",
    "\n",
    "   if not file_is_extracted:\n",
    "        source_csv_filename = 'votacao_candidato_munzona_2022_BRASIL.csv'\n",
    "\n",
    "        csv_extracted_path = os.path.join(work_dir, 'extracted')\n",
    "\n",
    "        unzip_file(source_csv_filename, destination_zip_path, csv_extracted_path)\n",
    "\n",
    "\n",
    "def download_zip_file(url: str, destination_path: str):\n",
    "    request.urlretrieve(url, destination_path)\n",
    "\n",
    "\n",
    "def unzip_file(file: str, source_path: str, extract_path):\n",
    "    from zipfile import ZipFile\n",
    "\n",
    "    with ZipFile(source_path, 'r') as zip_file:\n",
    "        zip_file.extract(file, extract_path)"
   ]
  },
  {
   "cell_type": "code",
   "execution_count": 3,
   "metadata": {},
   "outputs": [
    {
     "name": "stdout",
     "output_type": "stream",
     "text": [
      " ⌛ Baixando arquivo .zip e extraindo .csv...\n"
     ]
    }
   ],
   "source": [
    "csv_file_path = get_path_for_csv_file()\n",
    "check_if_extraction_folder_is_created(EXTRACTION_FOLDER_PATH)\n",
    "\n",
    "print(\" ⌛ Baixando arquivo .zip e extraindo .csv...\")\n",
    "\n",
    "download_csv_if_not_exists(csv_file_path)"
   ]
  },
  {
   "cell_type": "code",
   "execution_count": 1,
   "metadata": {},
   "outputs": [
    {
     "name": "stdout",
     "output_type": "stream",
     "text": [
      "[('DT_GERACAO;\"HH_GERACAO\";\"ANO_ELEICAO\";\"CD_TIPO_ELEICAO\";\"NM_TIPO_ELEICAO\";\"NR_TURNO\";\"CD_ELEICAO\";\"DS_ELEICAO\";\"DT_ELEICAO\";\"TP_ABRANGENCIA\";\"SG_UF\";\"SG_UE\";\"NM_UE\";\"CD_MUNICIPIO\";\"NM_MUNICIPIO\";\"NR_ZONA\";\"CD_CARGO\";\"DS_CARGO\";\"SQ_CANDIDATO\";\"NR_CANDIDATO\";\"NM_CANDIDATO\";\"NM_URNA_CANDIDATO\";\"NM_SOCIAL_CANDIDATO\";\"CD_SITUACAO_CANDIDATURA\";\"DS_SITUACAO_CANDIDATURA\";\"CD_DETALHE_SITUACAO_CAND\";\"DS_DETALHE_SITUACAO_CAND\";\"TP_AGREMIACAO\";\"NR_PARTIDO\";\"SG_PARTIDO\";\"NM_PARTIDO\";\"NR_FEDERACAO\";\"NM_FEDERACAO\";\"SG_FEDERACAO\";\"DS_COMPOSICAO_FEDERACAO\";\"SQ_COLIGACAO\";\"NM_COLIGACAO\";\"DS_COMPOSICAO_COLIGACAO\";\"ST_VOTO_EM_TRANSITO\";\"QT_VOTOS_NOMINAIS\";\"NM_TIPO_DESTINACAO_VOTOS\";\"QT_VOTOS_NOMINAIS_VALIDOS\";\"CD_SIT_TOT_TURNO\";\"DS_SIT_TOT_TURNO\"', 'VARCHAR', 'YES', None, None, None)]\n"
     ]
    }
   ],
   "source": [
    "import duckdb\n",
    "import pandas as pd\n",
    "\n",
    "connection = duckdb.connect()\n",
    "\n",
    "csv_file_path = './work/extracted/votacao_candidato_munzona_2022_BRASIL.csv'\n",
    "\n",
    "chunk_size = 10000  # Number of rows per chunk\n",
    "chunks = pd.read_csv(csv_file_path, encoding='latin1', chunksize=chunk_size, on_bad_lines='skip')\n",
    "\n",
    "# Initialize an empty DuckDB table with the first chunk\n",
    "for i, chunk in enumerate(chunks):\n",
    "    if i == 0:\n",
    "        # Create the table and insert the first chunk\n",
    "        connection.register('temp_chunk', chunk)\n",
    "        connection.execute(\"CREATE TABLE my_table AS SELECT * FROM temp_chunk\")\n",
    "    else:\n",
    "        # Append subsequent chunks\n",
    "        connection.register('temp_chunk', chunk)\n",
    "        connection.execute(\"INSERT INTO my_table SELECT * FROM temp_chunk\")\n",
    "\n",
    "# connection.execute(f\"\"\"\n",
    "\n",
    "\n",
    "print(connection.execute(\"DESCRIBE my_table\").fetchall())\n",
    "\n",
    "connection.close()"
   ]
  }
 ],
 "metadata": {
  "kernelspec": {
   "display_name": ".env",
   "language": "python",
   "name": "python3"
  },
  "language_info": {
   "codemirror_mode": {
    "name": "ipython",
    "version": 3
   },
   "file_extension": ".py",
   "mimetype": "text/x-python",
   "name": "python",
   "nbconvert_exporter": "python",
   "pygments_lexer": "ipython3",
   "version": "3.10.12"
  }
 },
 "nbformat": 4,
 "nbformat_minor": 2
}
